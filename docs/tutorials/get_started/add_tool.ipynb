{
 "cells": [
  {
   "cell_type": "markdown",
   "id": "a2a7179d",
   "metadata": {},
   "source": [
    "# Add tools\n",
    "[![Open in Colab](https://colab.research.google.com/assets/colab-badge.svg)](https://colab.research.google.com/drive/1abc123xyz)\n",
    "\n",
    "`Vinagent` allows you to connect to three types of tools:\n",
    "\n",
    "- Function tool: A Python function is registered into a specific agent using a decorator.\n",
    "- Module tool: A function from a Python module, saved in a specific folder, can be registered as a tool.\n",
    "- MCP tool: Create an MCP tool, which connects to an MCP server using the MCP protocol.\n",
    "\n",
    "You can add module tools from a Python module path as follows:\n",
    "\n",
    "- Set environment varibles inside `.env` including `TOGETHER_API_KEY` to use llm models at [togetherai](https://api.together.ai/signin) site and `TAVILY_API_KEY` to use tavily websearch tool at [tavily](https://app.tavily.com/home) site:\n",
    "\n",
    "\n",
    "```\n",
    "TOGETHER_API_KEY=\"Your together API key\"\n",
    "TAVILY_API_KEY=\"Your Tavily API key\"\n",
    "```\n",
    "\n",
    "- Initialize an LLM model, which can be any model wrapped by the [LangChain BaseLLM](https://python.langchain.com/api_reference/core/language_models/langchain_core.language_models.llms.BaseLLM.html) class:"
   ]
  },
  {
   "cell_type": "code",
   "execution_count": 1,
   "id": "f0c847aa",
   "metadata": {},
   "outputs": [],
   "source": [
    "from langchain_together import ChatTogether \n",
    "from vinagent.agent.agent import Agent\n",
    "from dotenv import load_dotenv, find_dotenv\n",
    "load_dotenv(find_dotenv('/Users/phamdinhkhanh/Documents/Courses/Manus/vinagent/.env'))\n",
    "\n",
    "llm = ChatTogether(\n",
    "    model=\"meta-llama/Llama-3.3-70B-Instruct-Turbo-Free\"\n",
    ")"
   ]
  },
  {
   "cell_type": "markdown",
   "id": "e5b1393b",
   "metadata": {},
   "source": [
    "- Initialize an Agent with tools, which are wrapped inside the tools argument as a list of paths:\n"
   ]
  },
  {
   "cell_type": "code",
   "execution_count": 2,
   "id": "48bf4206",
   "metadata": {},
   "outputs": [
    {
     "name": "stderr",
     "output_type": "stream",
     "text": [
      "INFO:httpx:HTTP Request: POST https://api.together.xyz/v1/chat/completions \"HTTP/1.1 200 OK\"\n",
      "INFO:vinagent.register.tool:Registered search_api:\n",
      "{'tool_name': 'search_api', 'arguments': {'query': {'type': 'Union[str, dict[str, str]]', 'value': '{}'}}, 'return': 'Any', 'docstring': 'Search for an answer from a query string\\n        Args:\\n            query (dict[str, str]):  The input query to search\\n        Returns:\\n            The answer from search query', 'dependencies': ['os', 'dotenv', 'tavily', 'dataclasses', 'typing'], 'module_path': 'vinagent.tools.websearch_tools', 'tool_type': 'module', 'tool_call_id': 'tool_c4c21905-154c-4f10-ad37-56e52ea4ce48'}\n",
      "INFO:vinagent.register.tool:Completed registration for module vinagent.tools.websearch_tools\n"
     ]
    }
   ],
   "source": [
    "# Step 1: Create Agent with tools\n",
    "agent = Agent(\n",
    "    description=\"You are a Financial Analyst\",\n",
    "    llm = llm,\n",
    "    skills = [\n",
    "        \"Deeply analyzing financial markets\", \n",
    "        \"Searching information about stock price\",\n",
    "        \"Visualization about stock price\"],\n",
    "    tools = ['vinagent.tools.websearch_tools'],\n",
    "    tools_path = 'templates/tools.json',\n",
    "    is_reset_tools = True\n",
    ")"
   ]
  },
  {
   "cell_type": "markdown",
   "id": "f5d1daf4",
   "metadata": {},
   "source": [
    "!!! note\n",
    "    `tools_path` is where the tools dictionary is saved. The default value is templates/tools.json.\n",
    "\n",
    "!!! tip \"Resetting Your Tools\"\n",
    "    If you set `is_reset_tools = True`, it will override the tool definitions every time an agent is reinitialized."
   ]
  },
  {
   "cell_type": "code",
   "execution_count": 9,
   "id": "2e31eb4f",
   "metadata": {},
   "outputs": [
    {
     "name": "stderr",
     "output_type": "stream",
     "text": [
      "INFO:vinagent.agent.agent:I'am chatting with unknown_user\n",
      "INFO:httpx:HTTP Request: POST https://api.together.xyz/v1/chat/completions \"HTTP/1.1 200 OK\"\n",
      "INFO:root:{'tool_name': 'search_api', 'tool_type': 'module', 'arguments': {'query': 'Agentic AI'}, 'module_path': 'vinagent.tools.websearch_tools'}\n",
      "INFO:vinagent.register.tool:Completed executing module tool search_api({'query': 'Agentic AI'})\n",
      "INFO:httpx:HTTP Request: POST https://api.together.xyz/v1/chat/completions \"HTTP/1.1 429 Too Many Requests\"\n",
      "INFO:openai._base_client:Retrying request to /chat/completions in 5.000000 seconds\n",
      "INFO:httpx:HTTP Request: POST https://api.together.xyz/v1/chat/completions \"HTTP/1.1 200 OK\"\n"
     ]
    }
   ],
   "source": [
    "# Step 2: invoke the agent\n",
    "message = agent.invoke(\"What is Agentic AI?\")"
   ]
  },
  {
   "cell_type": "code",
   "execution_count": 11,
   "id": "792c0031",
   "metadata": {},
   "outputs": [
    {
     "name": "stdout",
     "output_type": "stream",
     "text": [
      "\n",
      "According to the search_api results, Agentic AI refers to autonomous systems that can operate without human intervention. These systems utilize AI agents to perform tasks in a dynamic manner, relying on advanced machine learning techniques to function effectively. This means that Agentic AI is designed to make decisions and take actions independently, using complex algorithms to guide its operations. The use of AI agents enables Agentic AI to adapt to changing situations and respond accordingly, making it a potentially powerful tool in various applications.\n"
     ]
    }
   ],
   "source": [
    "print(message.content)"
   ]
  }
 ],
 "metadata": {
  "kernelspec": {
   "display_name": ".venv",
   "language": "python",
   "name": "python3"
  },
  "language_info": {
   "codemirror_mode": {
    "name": "ipython",
    "version": 3
   },
   "file_extension": ".py",
   "mimetype": "text/x-python",
   "name": "python",
   "nbconvert_exporter": "python",
   "pygments_lexer": "ipython3",
   "version": "3.10.10"
  }
 },
 "nbformat": 4,
 "nbformat_minor": 5
}
